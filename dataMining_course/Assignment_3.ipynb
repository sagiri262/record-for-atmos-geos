{
  "cells": [
    {
      "cell_type": "markdown",
      "metadata": {
        "id": "8ut5q2GiaeJ_"
      },
      "source": [
        "# Assignment 3: Similar document searching via MinHash and Locality Sensitive Hashing\n",
        "This Jupyter Notebook organizes the experiment task of \"Similar Document Retrieval based on MinHash and LSH\", presenting text descriptions (Text) and code frameworks (Code) separately without modifying the original content."
      ]
    },
    {
      "cell_type": "markdown",
      "metadata": {
        "id": "ACQJ2uTyaeKA"
      },
      "source": [
        "## 1. Experiment Overview (Text)\n",
        "In this project, we will implement the similar document retrieval system described in the lecture notes. This project is inspired by [http://mccormickml.com/2015/06/12/minhash-tutorial-with-python-code/](http://mccormickml.com/2015/06/12/minhash-tutorial-with-python-code/) (Note: You can refer to the code ideas on this website, but you need to implement it yourself)."
      ]
    },
    {
      "cell_type": "markdown",
      "metadata": {
        "id": "-3gs_ROcaeKA"
      },
      "source": [
        "### 1.1 Task Objective (Text)\n",
        "We will use documents from this repository: [http://www.inf.ed.ac.uk/teaching/courses/tts/assessed/assessment3.html](http://www.inf.ed.ac.uk/teaching/courses/tts/assessed/assessment3.html).\n",
        "This dataset contains 10,000 documents, and some of the document pairs are marked as plagiarism instances. The goal of this experiment is to verify whether the MinHash and LSH system can identify these plagiarism instances efficiently and accurately.\n",
        "\n",
        "Note: Smaller subsets of data suitable for testing can be obtained here: [https://github.com/chrisjmccormick/MinHash/tree/master/data](https://github.com/chrisjmccormick/MinHash/tree/master/data)"
      ]
    },
    {
      "cell_type": "markdown",
      "metadata": {
        "id": "rZub76qsaeKB"
      },
      "source": [
        "## 2. Part I: Preliminaries\n",
        "**DUE**: Monday Sept. 10"
      ]
    },
    {
      "cell_type": "markdown",
      "metadata": {
        "id": "OibXhJvoaeKB"
      },
      "source": [
        "### 2.1 Part IA: Dataset parsing (Text)\n",
        "Write a function `parse_data` that takes the path to a filename, reads in the article data and returns an array of tuples. Requirements are as follows:\n",
        "- One tuple per article (there is one article per line).\n",
        "- Each tuple contains `(id, string)`, where `id` is the article id and `string` is the processed article text.\n",
        "- Article text processing rules:\n",
        "  1. Remove all punctuation.\n",
        "  2. Change all letters to lowercase.\n",
        "  3. Remove all whitespace so that all words are concatenated."
      ]
    },
    {
      "cell_type": "code",
      "execution_count": null,
      "metadata": {
        "id": "72wjrIcraeKB"
      },
      "outputs": [],
      "source": [
        "def parse_data(filename):\n",
        "  # read lines from filename\n",
        "  # construct tuple of id and text\n",
        "  # process string as described above\n",
        "  # return tuple with id and processed string"
      ]
    },
    {
      "cell_type": "markdown",
      "metadata": {
        "id": "Gm_yCnRIaeKB"
      },
      "source": [
        "### 2.2 Part IB: Document shingles (Text)\n",
        "Write a function `shingle_document` that takes a processed article string and a parameter `k` and shards the document as follows:\n",
        "- Each substring of length $k$ in the document is hashed to a 32-bit integer (refer to the `crc32` function in Python's `binascii` library: [https://docs.python.org/3/library/binascii.html](https://docs.python.org/3/library/binascii.html)).\n",
        "- Return a list of the unique 32-bit integers obtained in the previous step (use Python sets for deduplication)."
      ]
    },
    {
      "cell_type": "code",
      "execution_count": null,
      "metadata": {
        "id": "ydjZVkvNaeKC"
      },
      "outputs": [],
      "source": [
        "def shingle_document(string, k):\n",
        "  # initialize set data structure\n",
        "  # for each position in string,\n",
        "    # extract substring of length k\n",
        "    # hash substring into 32-bit integer using crc32\n",
        "    # insert into set\n",
        "  # return set"
      ]
    },
    {
      "cell_type": "markdown",
      "metadata": {
        "id": "60XEUFD8aeKC"
      },
      "source": [
        "### 2.3 Part IC: Jaccard Similarity (Text)\n",
        "Write a function `jaccard` that takes two sharded documents and computes their Jaccard distance."
      ]
    },
    {
      "cell_type": "code",
      "execution_count": null,
      "metadata": {
        "id": "LzNdIX2RaeKC"
      },
      "outputs": [],
      "source": [
        "def jaccard(a, b):\n",
        "  # compute union size\n",
        "  # compute intersection size\n",
        "  # return ratio of union and intersection"
      ]
    },
    {
      "cell_type": "markdown",
      "metadata": {
        "id": "su_TGI6WaeKC"
      },
      "source": [
        "### 2.4 Part ID: Put these together (Text)\n",
        "Write a function that uses the above functions to perform the following operations:\n",
        "1. Parse a data file.\n",
        "2. Return a list of tuples, each tuple in the format `(id1, id2, s)`, where `id1` and `id2` are document ids and `s` is the computed Jaccard similarity."
      ]
    },
    {
      "cell_type": "markdown",
      "metadata": {
        "id": "NEN9_1CqaeKC"
      },
      "source": [
        "### 2.5 Part IE: Experiment 0 (Text)\n",
        "Use your function to answer the following question:\n",
        "**What is the effect of sharding length `k` on the Jaccard similarity of plagiarism instances versus instances that are not plagiarized?**\n",
        "\n",
        "Experiment requirements:\n",
        "- Make a plot with $k$ on the x-axis and average Jaccard similarity on the y-axis.\n",
        "- Plot two lines: one for plagiarism instances and one for non-plagiarism instances.\n",
        "- Use the 1000-document dataset for this experiment."
      ]
    },
    {
      "cell_type": "markdown",
      "metadata": {
        "id": "ysV5tVmNaeKC"
      },
      "source": [
        "## 3. Part II: MinHash\n",
        "**DUE**: Tuesday Sept. 18"
      ]
    },
    {
      "cell_type": "markdown",
      "metadata": {
        "id": "Qd63zS97aeKC"
      },
      "source": [
        "### 3.1 Experiment Overview (Text)\n",
        "In this section, you will implement the MinHash algorithm and perform an experiment to see how well it estimates Jaccard similarity."
      ]
    },
    {
      "cell_type": "markdown",
      "metadata": {
        "id": "frqIvM1WaeKC"
      },
      "source": [
        "### 3.2 Part IIA: Prepare shingles for processing (Text)\n",
        "Implement a function that takes the shingled documents and returns a list of item-document pairs sorted by items, which will be used to compute the minhash signature of each document. Note that due to the shingling logic we used above, we represent items as 32-bit integers. The function specifications are as follows:\n",
        "- Input: A list of tuples in the form `(docid, [items])`.\n",
        "- Output: A tuple containing two elements:\n",
        "  1. A list of tuples in the form `(item, docid)`, which contains one entry for each item appearing in each document.\n",
        "  2. A list of document ids found in the dataset.\n",
        "- The output list of tuples should be sorted by item."
      ]
    },
    {
      "cell_type": "code",
      "execution_count": null,
      "metadata": {
        "id": "-BTPRywTaeKD"
      },
      "outputs": [],
      "source": [
        "def invert_shingles(shingled_documents):\n",
        "  # initialize list for tuples\n",
        "  # initialize list for document ids\n",
        "  # for each document in input\n",
        "    # append document id to list\n",
        "\n",
        "    # for each item in document\n",
        "      # append (item, docid) tuple\n",
        "\n",
        "  # sort tuple list\n",
        "  # return sorted tuple list, and document list"
      ]
    },
    {
      "cell_type": "markdown",
      "metadata": {
        "id": "c7JdYmhMaeKD"
      },
      "source": [
        "### 3.3 Part IIB: Generate hash functions (Text)\n",
        "Use the `make_random_hash_fn` function below to implement the `make_hashes` function. Given the input `num_hashes`, this function will return a list of hash functions that mimic the random permutation approach used in Minhash calculation."
      ]
    },
    {
      "cell_type": "markdown",
      "metadata": {
        "id": "UrfcpK0caeKD"
      },
      "source": [
        "### 3.4 Part IIC: Construct the Minhash Signature Matrix (Text)\n",
        "Implement a function that builds the Minhash signature matrix. You can use the following code as a starting point, which refers to the functions you implemented above and outlines the construction algorithm."
      ]
    },
    {
      "cell_type": "code",
      "execution_count": null,
      "metadata": {
        "id": "-Xw1ak3AaeKD"
      },
      "outputs": [],
      "source": [
        "import numpy\n",
        "\n",
        "def make_minhash_signature(shingled_data, num_hashes):\n",
        "  inv_index, docids = invert_shingles(shingled_data)\n",
        "  num_docs = len(docids)\n",
        "\n",
        "  # initialize the signature matrix with infinity in every entry\n",
        "  sigmatrix = np.full([num_hash, num_docs], np.inf)\n",
        "\n",
        "  # generate hash functions\n",
        "  hash_funcs = make_hashes(num_hashes)\n",
        "\n",
        "  # iterate over each non-zero entry of the characteristic matrix\n",
        "  for row, docid in inv_index:\n",
        "    # update signature matrix if needed\n",
        "    # THIS IS WHAT YOU NEED TO IMPLEMENT\n",
        "\n",
        "  return sigmatrix, docids"
      ]
    },
    {
      "cell_type": "markdown",
      "metadata": {
        "id": "xMy6ThBBaeKD"
      },
      "source": [
        "### 3.5 Part IID: MinHash similarity estimate (Text)\n",
        "Write a function that computes the similarity of two documents using the minhash matrix computed above. The function specifications are as follows:\n",
        "- Input:\n",
        "  1. `id1, id2`: Document ids.\n",
        "  2. `minhash_sigmat`: Minhash signature matrix.\n",
        "  3. `docids`: List of document ids, used to index the columns of the minhash signature matrix.\n",
        "- Output: Jaccard similarity estimated using minhash.\n",
        "\n",
        "Hint: Refer to the example code for comparing numpy arrays below."
      ]
    },
    {
      "cell_type": "code",
      "execution_count": null,
      "metadata": {
        "id": "LZ9OI0cBaeKD"
      },
      "outputs": [],
      "source": [
        "def minhash_similarity(id1, id2, minhash_sigmat, docids):\n",
        "  # get column of the similarity matrix for the two documents\n",
        "  # calculate the fraction of rows where two columns match\n",
        "  # return this fraction as the minhash similarity estimate"
      ]
    },
    {
      "cell_type": "markdown",
      "metadata": {
        "id": "s-sKHffSaeKD"
      },
      "source": [
        "### 3.6 Part IIE: Put these together (Text)\n",
        "Write a function that takes shingled documents and computes the Minhash estimated similarities between each pair of documents. This will be similar to your function for Part ID."
      ]
    },
    {
      "cell_type": "markdown",
      "metadata": {
        "id": "vBVFWkcRaeKD"
      },
      "source": [
        "### 3.7 Part IIF: Experiment 1 (Text)\n",
        "Use your function to carry out the following experiment:\n",
        "**What is the effect of the number of hash functions used to compute the Minhash signature on the accuracy of the Minhash estimate of Jaccard similarity?**\n",
        "\n",
        "Experiment requirement: Carry out this experiment on the 1000-document dataset."
      ]
    },
    {
      "cell_type": "markdown",
      "metadata": {
        "id": "F5V2INA2aeKD"
      },
      "source": [
        "## 4. Part III: Locality-Sensitive Hashing\n",
        "**DUE**: Tuesday Sept. 25"
      ]
    },
    {
      "cell_type": "markdown",
      "metadata": {
        "id": "5zbeX6WlaeKD"
      },
      "source": [
        "### 4.1 Implement LSH (Text)\n",
        "Write a function that implements locality sensitive hashing. Function specifications:\n",
        "- Input:\n",
        "  1. `minhash_sigmatrix`: A minhash signature matrix.\n",
        "  2. `numhashes`: Number of hash functions used to construct the minhash signature matrix.\n",
        "  3. `docids`: List of document ids.\n",
        "  4. `threshold`: A minimum Jaccard similarity threshold.\n",
        "- Output: A list of hash tables."
      ]
    },
    {
      "cell_type": "code",
      "execution_count": null,
      "metadata": {
        "id": "sPVnm64_aeKD"
      },
      "outputs": [],
      "source": [
        "from collections import defaultdict\n",
        "\n",
        "def do_lsh(minhash_sigmatrix, numhashes, docids, threshold):\n",
        "  # choose the number of bands, and rows per band to use in LSH\n",
        "  b, _ = choose_nbands(threshold, numhashes)\n",
        "  r = int(numhashes / b)\n",
        "\n",
        "  narticles = len(docids)\n",
        "\n",
        "  # generate a random hash function that takes vectors of length r as input\n",
        "  hash_func = _make_vector_hash(r)\n",
        "\n",
        "  # setup the list of hashtables, will be populated with one hashtable per band\n",
        "  buckets = []\n",
        "\n",
        "  # fill hash tables for each band\n",
        "  for band in range(b):\n",
        "    # figure out which rows of minhash signature matrix to hash for this band\n",
        "    start_index = int(band * r)\n",
        "    end_index = min(start_index + r, numhashes)\n",
        "\n",
        "    # initialize hashtable for this band\n",
        "    cur_buckets = defaultdict(list)\n",
        "\n",
        "    for j in range(narticles):\n",
        "      # THIS IS WHAT YOU NEED TO IMPLEMENT\n",
        "\n",
        "    # add this hashtable to the list of hashtables\n",
        "    buckets.append(cur_buckets)\n",
        "\n",
        "  return buckets"
      ]
    },
    {
      "cell_type": "markdown",
      "metadata": {
        "id": "hLn3tdPvaeKE"
      },
      "source": [
        "### 4.2 Find candidate similar article pairs (Text)\n",
        "Write a function that uses the result of your LSH function and returns a list of candidate article pairs. Specifications:\n",
        "- Input: The result of `do_lsh`.\n",
        "- Output: A list of tuples `(docid1, docid2)`, each being a candidate similar article pair according to LSH."
      ]
    },
    {
      "cell_type": "markdown",
      "metadata": {
        "id": "BH-VOT9baeKE"
      },
      "source": [
        "### 4.3 Experiment 2: LSH sensitivity (Text)\n",
        "Use these functions to compute the sensitivity and specificity of LSH as a function of the threshold. Use the 10,000-document dataset to perform this experiment."
      ]
    },
    {
      "cell_type": "markdown",
      "metadata": {
        "id": "4ZbLteWHaeKE"
      },
      "source": [
        "## 5. Helpers"
      ]
    },
    {
      "cell_type": "markdown",
      "metadata": {
        "id": "prUQhbITaeKE"
      },
      "source": [
        "### 5.1 Obtaining data (Text)\n",
        "You can use the following Python code to download data for the project."
      ]
    },
    {
      "cell_type": "code",
      "execution_count": null,
      "metadata": {
        "id": "2MFf4MK6aeKE"
      },
      "outputs": [],
      "source": [
        "import os\n",
        "from six.moves import urllib\n",
        "\n",
        "DOWNLOAD_ROOT = \"https://raw.githubusercontent.com/chrisjmccormick/MinHash/master/data\"\n",
        "PLAGIARISM_PATH = \"datasets/plagiarism\"\n",
        "DATA_SIZES = [100,1000,2500,10000]\n",
        "\n",
        "def fetch_data(download_root=DOWNLOAD_ROOT,\n",
        "               plagiarism_path=PLAGIARISM_PATH,\n",
        "               data_sizes=DATA_SIZES,\n",
        "               maxsize=1000):\n",
        "  if not os.path.isdir(plagiarism_path):\n",
        "      os.makedirs(plagiarism_path)\n",
        "  for size in data_sizes:\n",
        "      if size <= maxsize:\n",
        "          train_file = \"articles_\" + str(size) + \".train\"\n",
        "          train_path = plagiarism_path + '/' + train_file\n",
        "          if not os.path.exists(train_path):\n",
        "              train_url = download_root + '/' + train_file\n",
        "              urllib.request.urlretrieve(train_url, train_path)\n",
        "\n",
        "          truth_file = \"articles_\" + str(size) + \".truth\"\n",
        "          truth_path = plagiarism_path + '/' + truth_file\n",
        "          if not os.path.exists(truth_path):\n",
        "              truth_url = download_root + \"/\" + truth_file\n",
        "              urllib.request.urlretrieve(truth_url, truth_path)"
      ]
    },
    {
      "cell_type": "markdown",
      "metadata": {
        "id": "zdEXTzL8aeKE"
      },
      "source": [
        "**Usage Instructions** (Text):\n",
        "The `fetch_data` function will download data to the subdirectory pointed to by `PLAGIARISM_PATH`. You can assign the path where you want to store your data to this variable.\n",
        "The `maxsize` parameter is used to limit the size of the downloaded data. For testing and development, it is recommended to use the 1000-document dataset, which can be obtained by calling `fetch_data(maxsize=1000)`."
      ]
    },
    {
      "cell_type": "markdown",
      "metadata": {
        "id": "IPRn1h2PaeKE"
      },
      "source": [
        "### 5.2 Generating random hash functions (Text)\n",
        "This function generates a random hash function suitable for mimicking permutations over 32-bit integers. Recall that since we are using `crc32` to represent items, we need random hash functions that generate 32-bit numbers."
      ]
    },
    {
      "cell_type": "code",
      "execution_count": null,
      "metadata": {
        "id": "Y5VS8336aeKE"
      },
      "outputs": [],
      "source": [
        "import random\n",
        "\n",
        "def make_random_hash_fn(p=2**33-355, m=4294967295):\n",
        "    a = random.randint(1,p-1)\n",
        "    b = random.randint(0, p-1)\n",
        "    return lambda x: ((a * x + b) % p) % m"
      ]
    },
    {
      "cell_type": "markdown",
      "metadata": {
        "id": "CjJBRBeVaeKE"
      },
      "source": [
        "**Usage Example** (Text):"
      ]
    },
    {
      "cell_type": "code",
      "execution_count": null,
      "metadata": {
        "id": "YSqpXmI0aeKE"
      },
      "outputs": [],
      "source": [
        "hash_fn = make_random_hash_fn()\n",
        "hash_fn(12345)"
      ]
    },
    {
      "cell_type": "markdown",
      "metadata": {
        "id": "B1RBEnYUaeKE"
      },
      "source": [
        "**Explanation** (Text):\n",
        "This implements a universal hash function for 32-bit integers, which ensures that the result corresponds to the permutation of rows of the characteristic matrix required by Minhash (Refer to: [https://en.wikipedia.org/wiki/Universal_hashing](https://en.wikipedia.org/wiki/Universal_hashing)). Here, `m` is the largest number returned by `crc32`, and `p` is a prime number larger than `m`."
      ]
    },
    {
      "cell_type": "markdown",
      "metadata": {
        "id": "kb1FpXKuaeKE"
      },
      "source": [
        "### 5.3 Comparing numpy vectors (Text)\n",
        "The following code snippet shows how to use numpy to compare two integer vectors, which is required to compute the minhash similarity estimate."
      ]
    },
    {
      "cell_type": "code",
      "execution_count": null,
      "metadata": {
        "id": "DMBgeb8FaeKE"
      },
      "outputs": [],
      "source": [
        "# generate two vectors of length 50 with random integers from 0 to 100\n",
        "a = np.random.randint(100, size=50)\n",
        "b = np.random.randint(100, size=50)\n",
        "\n",
        "# compute the fraction of entries in which two vectors are equal\n",
        "np.mean(a == b)"
      ]
    },
    {
      "cell_type": "markdown",
      "metadata": {
        "id": "Oq6NubEjaeKK"
      },
      "source": [
        "### 5.4 Choosing the number of bands for LSH (Text)\n",
        "Given a similarity threshold, we need to choose the number of bands to use in LSH. You can use the following function to do this."
      ]
    },
    {
      "cell_type": "code",
      "execution_count": null,
      "metadata": {
        "id": "f_OQA2KNaeKK"
      },
      "outputs": [],
      "source": [
        "import scipy.optimize as opt\n",
        "import math\n",
        "\n",
        "def _choose_nbands(t, n):\n",
        "    def _error_fun(x):\n",
        "        cur_t = (1/x[0])**(x[0]/n)\n",
        "        return (t-cur_t)**2\n",
        "\n",
        "    opt_res = opt.minimize(error_fun, x0=(10), method='Nelder-Mead')\n",
        "    b = int(math.ceil(res['x'][0]))\n",
        "    r = int(n / b)\n",
        "    final_t = (1/b)**(1/r)\n",
        "    return b, final_t"
      ]
    },
    {
      "cell_type": "markdown",
      "metadata": {
        "id": "yOp5AkQ0aeKK"
      },
      "source": [
        "### 5.5 Hashing a vector (Text)\n",
        "In LSH, we need to hash the `r` hash values of each document for each band. You can use the following function to generate a hash function for vectors."
      ]
    },
    {
      "cell_type": "code",
      "execution_count": null,
      "metadata": {
        "id": "HBlVEfW5aeKK"
      },
      "outputs": [],
      "source": [
        "def _make_vector_hash(num_hashes, m=4294967295):\n",
        "    hash_fns = make_hashes(num_hashes)\n",
        "    def _f(vec):\n",
        "      acc = 0\n",
        "      for i in range(len(vec)):\n",
        "        h = hash_fns[i]\n",
        "        acc += h(vec[i])\n",
        "      return acc % m\n",
        "    return _f"
      ]
    }
  ],
  "metadata": {
    "kernelspec": {
      "display_name": "Python 3",
      "language": "python",
      "name": "python3"
    },
    "language_info": {
      "codemirror_mode": {
        "name": "ipython",
        "version": 3
      },
      "file_extension": ".py",
      "mimetype": "text/x-python",
      "name": "python",
      "nbconvert_exporter": "python",
      "pygments_lexer": "ipython3",
      "version": "3.8.0"
    },
    "colab": {
      "provenance": []
    }
  },
  "nbformat": 4,
  "nbformat_minor": 0
}